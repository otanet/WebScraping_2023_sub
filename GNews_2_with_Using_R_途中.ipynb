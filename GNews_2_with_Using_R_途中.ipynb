{
  "nbformat": 4,
  "nbformat_minor": 0,
  "metadata": {
    "colab": {
      "provenance": [],
      "authorship_tag": "ABX9TyMrebFGRib6z4KKqkGP7bzR",
      "include_colab_link": true
    },
    "kernelspec": {
      "name": "python3",
      "display_name": "Python 3"
    },
    "language_info": {
      "name": "python"
    }
  },
  "cells": [
    {
      "cell_type": "markdown",
      "metadata": {
        "id": "view-in-github",
        "colab_type": "text"
      },
      "source": [
        "<a href=\"https://colab.research.google.com/github/otanet/WebScraping_2023_sub/blob/main/GNews_2_with_Using_R_%E9%80%94%E4%B8%AD.ipynb\" target=\"_parent\"><img src=\"https://colab.research.google.com/assets/colab-badge.svg\" alt=\"Open In Colab\"/></a>"
      ]
    },
    {
      "cell_type": "markdown",
      "source": [
        "### Pythonでグーグルニュースをスクレイピングして、Ｒで編集。 - Qiita\n",
        "### https://qiita.com/tyamaguchi636/items/2e29ea173f5008b2948e\n",
        "### 20230109 2029\n"
      ],
      "metadata": {
        "id": "uJVPIeVpSlQd"
      }
    },
    {
      "cell_type": "code",
      "source": [
        "!pip install feedparser"
      ],
      "metadata": {
        "colab": {
          "base_uri": "https://localhost:8080/"
        },
        "id": "imJ0yxOgSlY0",
        "outputId": "ecd9c477-7094-4ea7-cdec-d57b2f1f66b3"
      },
      "execution_count": 13,
      "outputs": [
        {
          "output_type": "stream",
          "name": "stdout",
          "text": [
            "Looking in indexes: https://pypi.org/simple, https://us-python.pkg.dev/colab-wheels/public/simple/\n",
            "Requirement already satisfied: feedparser in /usr/local/lib/python3.8/dist-packages (6.0.10)\n",
            "Requirement already satisfied: sgmllib3k in /usr/local/lib/python3.8/dist-packages (from feedparser) (1.0.0)\n"
          ]
        }
      ]
    },
    {
      "cell_type": "code",
      "source": [
        "import feedparser\n",
        "import urllib\n",
        "import json\n",
        "import pprint"
      ],
      "metadata": {
        "id": "vVAEo_m2SlbB"
      },
      "execution_count": 3,
      "outputs": []
    },
    {
      "cell_type": "code",
      "source": [
        "s = 'スパイダープラス'\n",
        "#検索ワードをURLエンコードに変換\n",
        "s_quote = urllib.parse.quote(s)\n",
        "#グーグルニュース検索のURLの間に挟む\n",
        "url = \"https://news.google.com/news/rss/search/section/q/\" + s_quote + \"/\" + s_quote + \"?ned=jp&amp;hl=ja&amp;gl=JP\""
      ],
      "metadata": {
        "id": "P5K4cjSGSwhb"
      },
      "execution_count": 4,
      "outputs": []
    },
    {
      "cell_type": "code",
      "source": [
        "d = feedparser.parse(url)\n",
        "news = list()"
      ],
      "metadata": {
        "id": "KPT-ttxUSwkE"
      },
      "execution_count": 5,
      "outputs": []
    },
    {
      "cell_type": "code",
      "source": [
        "for i, entry in enumerate(d.entries, 1):\n",
        "\n",
        "    p = entry.published_parsed\n",
        "    sortkey = \"%04d%02d%02d%02d%02d%02d\" % (p.tm_year, p.tm_mon, p.tm_mday, p.tm_hour, p.tm_min, p.tm_sec)\n",
        "\n",
        "    tmp = {\n",
        "        \"no\": i,\n",
        "        \"title\": entry.title,\n",
        "        \"summary\": entry.summary,\n",
        "        \"link\": entry.link,\n",
        "        \"published\": entry.published,\n",
        "        \"sortkey\": sortkey\n",
        "    }\n",
        "\n",
        "    news.append(tmp)\n"
      ],
      "metadata": {
        "id": "6ZA22puISwo8"
      },
      "execution_count": 6,
      "outputs": []
    },
    {
      "cell_type": "code",
      "source": [
        "#pprint.pprint(news[0:])\n",
        "pprint.pprint(news[0])"
      ],
      "metadata": {
        "colab": {
          "base_uri": "https://localhost:8080/"
        },
        "id": "TeoSJsjVSv9R",
        "outputId": "d1956009-86c1-4b0b-bfd2-4031e754ea98"
      },
      "execution_count": 11,
      "outputs": [
        {
          "output_type": "stream",
          "name": "stdout",
          "text": [
            "{'link': 'https://news.google.com/__i/rss/rd/articles/CBMiOmh0dHBzOi8vcHJ0aW1lcy5qcC9tYWluL2h0bWwvcmQvcC8wMDAwMDAwOTcuMDAwMDMwNTEwLmh0bWzSAQA?oc=5',\n",
            " 'no': 1,\n",
            " 'published': 'Fri, 16 Dec 2022 08:00:00 GMT',\n",
            " 'sortkey': '20221216080000',\n",
            " 'summary': '<a '\n",
            "            'href=\"https://news.google.com/__i/rss/rd/articles/CBMiOmh0dHBzOi8vcHJ0aW1lcy5qcC9tYWluL2h0bWwvcmQvcC8wMDAwMDAwOTcuMDAwMDMwNTEwLmh0bWzSAQA?oc=5\" '\n",
            "            'target=\"_blank\">スパイダープラス株式会社、『建設業における働き方改革関連法 '\n",
            "            '...</a>&nbsp;&nbsp;<font color=\"#6f6f6f\">PR TIMES</font>',\n",
            " 'title': 'スパイダープラス株式会社、『建設業における働き方改革関連法 ... - PR TIMES'}\n"
          ]
        }
      ]
    },
    {
      "cell_type": "code",
      "source": [],
      "metadata": {
        "id": "vunwh7OYSwBo"
      },
      "execution_count": null,
      "outputs": []
    },
    {
      "cell_type": "code",
      "source": [],
      "metadata": {
        "id": "zvqqDjluSwEB"
      },
      "execution_count": null,
      "outputs": []
    },
    {
      "cell_type": "code",
      "source": [],
      "metadata": {
        "id": "JUpKl2ASSwH7"
      },
      "execution_count": null,
      "outputs": []
    },
    {
      "cell_type": "code",
      "source": [],
      "metadata": {
        "id": "i_2ZtrQaSlfm"
      },
      "execution_count": null,
      "outputs": []
    },
    {
      "cell_type": "code",
      "source": [
        "import requests\n",
        "\n",
        "keyword = \"スパイダープラス\"\n",
        "url = 'https://news.google.com/search'\n",
        "\n",
        "params = {'hl':'ja', 'gl':'JP', 'ceid':'JP:ja', 'q':keyword}\n",
        "\n",
        "# url、パラメータを設定してリクエストを送る\n",
        "res = requests.get(url, params=params)\n",
        "\n",
        "# レスポンスを出力\n",
        "print('----------')\n",
        "print(res)\n",
        "print('----------')\n",
        "print(res.url)\n",
        "print('----------')\n",
        "print(res.text)"
      ],
      "metadata": {
        "id": "zMs6VPpQSJWt"
      },
      "execution_count": null,
      "outputs": []
    },
    {
      "cell_type": "code",
      "source": [],
      "metadata": {
        "id": "T7gcuHNUSJZT"
      },
      "execution_count": null,
      "outputs": []
    }
  ]
}