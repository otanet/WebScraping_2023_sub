{
  "nbformat": 4,
  "nbformat_minor": 0,
  "metadata": {
    "colab": {
      "provenance": [],
      "authorship_tag": "ABX9TyMp8H98tUXpleeR0H/sHc9n",
      "include_colab_link": true
    },
    "kernelspec": {
      "name": "python3",
      "display_name": "Python 3"
    },
    "language_info": {
      "name": "python"
    }
  },
  "cells": [
    {
      "cell_type": "markdown",
      "metadata": {
        "id": "view-in-github",
        "colab_type": "text"
      },
      "source": [
        "<a href=\"https://colab.research.google.com/github/otanet/WebScraping_2023_sub/blob/main/3%E8%A1%8C%E8%A6%81%E7%B4%84_%E8%A9%A6%E6%A1%881.ipynb\" target=\"_parent\"><img src=\"https://colab.research.google.com/assets/colab-badge.svg\" alt=\"Open In Colab\"/></a>"
      ]
    },
    {
      "cell_type": "markdown",
      "source": [],
      "metadata": {
        "id": "q-rA6WpoERVb"
      }
    },
    {
      "cell_type": "code",
      "source": [
        "pip install sumy"
      ],
      "metadata": {
        "colab": {
          "base_uri": "https://localhost:8080/"
        },
        "id": "ckziYCZqERbi",
        "outputId": "e8d35a59-4a14-43fc-fed0-efd3d8f9fd16"
      },
      "execution_count": null,
      "outputs": [
        {
          "output_type": "stream",
          "name": "stdout",
          "text": [
            "Looking in indexes: https://pypi.org/simple, https://us-python.pkg.dev/colab-wheels/public/simple/\n",
            "Collecting sumy\n",
            "  Downloading sumy-0.11.0-py2.py3-none-any.whl (97 kB)\n",
            "\u001b[?25l\r\u001b[K     |███▍                            | 10 kB 25.8 MB/s eta 0:00:01\r\u001b[K     |██████▊                         | 20 kB 36.2 MB/s eta 0:00:01\r\u001b[K     |██████████                      | 30 kB 45.4 MB/s eta 0:00:01\r\u001b[K     |█████████████▌                  | 40 kB 37.9 MB/s eta 0:00:01\r\u001b[K     |████████████████▉               | 51 kB 39.8 MB/s eta 0:00:01\r\u001b[K     |████████████████████▏           | 61 kB 43.5 MB/s eta 0:00:01\r\u001b[K     |███████████████████████▋        | 71 kB 32.1 MB/s eta 0:00:01\r\u001b[K     |███████████████████████████     | 81 kB 33.9 MB/s eta 0:00:01\r\u001b[K     |██████████████████████████████▎ | 92 kB 36.7 MB/s eta 0:00:01\r\u001b[K     |████████████████████████████████| 97 kB 7.3 MB/s \n",
            "\u001b[?25hRequirement already satisfied: nltk>=3.0.2 in /usr/local/lib/python3.8/dist-packages (from sumy) (3.7)\n",
            "Collecting pycountry>=18.2.23\n",
            "  Downloading pycountry-22.3.5.tar.gz (10.1 MB)\n",
            "\u001b[K     |████████████████████████████████| 10.1 MB 24.8 MB/s \n",
            "\u001b[?25h  Installing build dependencies ... \u001b[?25l\u001b[?25hdone\n",
            "  Getting requirements to build wheel ... \u001b[?25l\u001b[?25hdone\n",
            "    Preparing wheel metadata ... \u001b[?25l\u001b[?25hdone\n",
            "Collecting docopt<0.7,>=0.6.1\n",
            "  Downloading docopt-0.6.2.tar.gz (25 kB)\n",
            "Collecting breadability>=0.1.20\n",
            "  Downloading breadability-0.1.20.tar.gz (32 kB)\n",
            "Requirement already satisfied: requests>=2.7.0 in /usr/local/lib/python3.8/dist-packages (from sumy) (2.23.0)\n",
            "Requirement already satisfied: chardet in /usr/local/lib/python3.8/dist-packages (from breadability>=0.1.20->sumy) (3.0.4)\n",
            "Requirement already satisfied: lxml>=2.0 in /usr/local/lib/python3.8/dist-packages (from breadability>=0.1.20->sumy) (4.9.2)\n",
            "Requirement already satisfied: tqdm in /usr/local/lib/python3.8/dist-packages (from nltk>=3.0.2->sumy) (4.64.1)\n",
            "Requirement already satisfied: joblib in /usr/local/lib/python3.8/dist-packages (from nltk>=3.0.2->sumy) (1.2.0)\n",
            "Requirement already satisfied: regex>=2021.8.3 in /usr/local/lib/python3.8/dist-packages (from nltk>=3.0.2->sumy) (2022.6.2)\n",
            "Requirement already satisfied: click in /usr/local/lib/python3.8/dist-packages (from nltk>=3.0.2->sumy) (7.1.2)\n",
            "Requirement already satisfied: setuptools in /usr/local/lib/python3.8/dist-packages (from pycountry>=18.2.23->sumy) (57.4.0)\n",
            "Requirement already satisfied: urllib3!=1.25.0,!=1.25.1,<1.26,>=1.21.1 in /usr/local/lib/python3.8/dist-packages (from requests>=2.7.0->sumy) (1.24.3)\n",
            "Requirement already satisfied: certifi>=2017.4.17 in /usr/local/lib/python3.8/dist-packages (from requests>=2.7.0->sumy) (2022.12.7)\n",
            "Requirement already satisfied: idna<3,>=2.5 in /usr/local/lib/python3.8/dist-packages (from requests>=2.7.0->sumy) (2.10)\n",
            "Building wheels for collected packages: breadability, docopt, pycountry\n",
            "  Building wheel for breadability (setup.py) ... \u001b[?25l\u001b[?25hdone\n",
            "  Created wheel for breadability: filename=breadability-0.1.20-py2.py3-none-any.whl size=21714 sha256=b8468b4429338f956fb6898be95fd7deff1afeeceeaae93b77bdc9c5d24c3ccb\n",
            "  Stored in directory: /root/.cache/pip/wheels/5f/0d/0c/2062d8c1758b4b1a2e42b4a63e6660d9ec2ba9463cfee9eeab\n",
            "  Building wheel for docopt (setup.py) ... \u001b[?25l\u001b[?25hdone\n",
            "  Created wheel for docopt: filename=docopt-0.6.2-py2.py3-none-any.whl size=13723 sha256=b11ef6dce97e8182383a654e466db18934565216a1ac4872396b33de3ed6412a\n",
            "  Stored in directory: /root/.cache/pip/wheels/56/ea/58/ead137b087d9e326852a851351d1debf4ada529b6ac0ec4e8c\n",
            "  Building wheel for pycountry (PEP 517) ... \u001b[?25l\u001b[?25hdone\n",
            "  Created wheel for pycountry: filename=pycountry-22.3.5-py2.py3-none-any.whl size=10681845 sha256=917b27f001f975d8fbc90f74b7fc6c2e0815314c93527a8f871b9f7c93335fcc\n",
            "  Stored in directory: /root/.cache/pip/wheels/e2/aa/0f/c224e473b464387170b83ca7c66947b4a7e33e8d903a679748\n",
            "Successfully built breadability docopt pycountry\n",
            "Installing collected packages: docopt, pycountry, breadability, sumy\n",
            "Successfully installed breadability-0.1.20 docopt-0.6.2 pycountry-22.3.5 sumy-0.11.0\n"
          ]
        }
      ]
    },
    {
      "cell_type": "code",
      "source": [
        "\n",
        "pip install tinysegmenter\n"
      ],
      "metadata": {
        "colab": {
          "base_uri": "https://localhost:8080/"
        },
        "id": "wlGcd4M0Ef5E",
        "outputId": "833fd144-f805-4343-98b7-da4e80941d29"
      },
      "execution_count": null,
      "outputs": [
        {
          "output_type": "stream",
          "name": "stdout",
          "text": [
            "Looking in indexes: https://pypi.org/simple, https://us-python.pkg.dev/colab-wheels/public/simple/\n",
            "Collecting tinysegmenter\n",
            "  Downloading tinysegmenter-0.4.tar.gz (16 kB)\n",
            "Building wheels for collected packages: tinysegmenter\n",
            "  Building wheel for tinysegmenter (setup.py) ... \u001b[?25l\u001b[?25hdone\n",
            "  Created wheel for tinysegmenter: filename=tinysegmenter-0.4-py3-none-any.whl size=13551 sha256=84ef1ece8a8e263297d52b08723c4ee32e5358438a8948f029be9946cbf5a91f\n",
            "  Stored in directory: /root/.cache/pip/wheels/86/df/80/ad0ba7f0cee66257f968fd091eeb646c41e08568a66c71ad67\n",
            "Successfully built tinysegmenter\n",
            "Installing collected packages: tinysegmenter\n",
            "Successfully installed tinysegmenter-0.4\n"
          ]
        }
      ]
    },
    {
      "cell_type": "code",
      "source": [
        "\n",
        "pip install spacy\n"
      ],
      "metadata": {
        "colab": {
          "base_uri": "https://localhost:8080/"
        },
        "id": "bo44BHNFEr2b",
        "outputId": "f2c04268-bec5-4d94-d335-64b50f4ba536"
      },
      "execution_count": null,
      "outputs": [
        {
          "output_type": "stream",
          "name": "stdout",
          "text": [
            "Looking in indexes: https://pypi.org/simple, https://us-python.pkg.dev/colab-wheels/public/simple/\n",
            "Requirement already satisfied: spacy in /usr/local/lib/python3.8/dist-packages (3.4.4)\n",
            "Requirement already satisfied: murmurhash<1.1.0,>=0.28.0 in /usr/local/lib/python3.8/dist-packages (from spacy) (1.0.9)\n",
            "Requirement already satisfied: smart-open<7.0.0,>=5.2.1 in /usr/local/lib/python3.8/dist-packages (from spacy) (6.3.0)\n",
            "Requirement already satisfied: packaging>=20.0 in /usr/local/lib/python3.8/dist-packages (from spacy) (21.3)\n",
            "Requirement already satisfied: catalogue<2.1.0,>=2.0.6 in /usr/local/lib/python3.8/dist-packages (from spacy) (2.0.8)\n",
            "Requirement already satisfied: typer<0.8.0,>=0.3.0 in /usr/local/lib/python3.8/dist-packages (from spacy) (0.7.0)\n",
            "Requirement already satisfied: wasabi<1.1.0,>=0.9.1 in /usr/local/lib/python3.8/dist-packages (from spacy) (0.10.1)\n",
            "Requirement already satisfied: preshed<3.1.0,>=3.0.2 in /usr/local/lib/python3.8/dist-packages (from spacy) (3.0.8)\n",
            "Requirement already satisfied: pathy>=0.3.5 in /usr/local/lib/python3.8/dist-packages (from spacy) (0.10.1)\n",
            "Requirement already satisfied: thinc<8.2.0,>=8.1.0 in /usr/local/lib/python3.8/dist-packages (from spacy) (8.1.5)\n",
            "Requirement already satisfied: spacy-legacy<3.1.0,>=3.0.10 in /usr/local/lib/python3.8/dist-packages (from spacy) (3.0.10)\n",
            "Requirement already satisfied: pydantic!=1.8,!=1.8.1,<1.11.0,>=1.7.4 in /usr/local/lib/python3.8/dist-packages (from spacy) (1.10.2)\n",
            "Requirement already satisfied: setuptools in /usr/local/lib/python3.8/dist-packages (from spacy) (57.4.0)\n",
            "Requirement already satisfied: langcodes<4.0.0,>=3.2.0 in /usr/local/lib/python3.8/dist-packages (from spacy) (3.3.0)\n",
            "Requirement already satisfied: cymem<2.1.0,>=2.0.2 in /usr/local/lib/python3.8/dist-packages (from spacy) (2.0.7)\n",
            "Requirement already satisfied: srsly<3.0.0,>=2.4.3 in /usr/local/lib/python3.8/dist-packages (from spacy) (2.4.5)\n",
            "Requirement already satisfied: spacy-loggers<2.0.0,>=1.0.0 in /usr/local/lib/python3.8/dist-packages (from spacy) (1.0.4)\n",
            "Requirement already satisfied: jinja2 in /usr/local/lib/python3.8/dist-packages (from spacy) (2.11.3)\n",
            "Requirement already satisfied: requests<3.0.0,>=2.13.0 in /usr/local/lib/python3.8/dist-packages (from spacy) (2.23.0)\n",
            "Requirement already satisfied: tqdm<5.0.0,>=4.38.0 in /usr/local/lib/python3.8/dist-packages (from spacy) (4.64.1)\n",
            "Requirement already satisfied: numpy>=1.15.0 in /usr/local/lib/python3.8/dist-packages (from spacy) (1.21.6)\n",
            "Requirement already satisfied: pyparsing!=3.0.5,>=2.0.2 in /usr/local/lib/python3.8/dist-packages (from packaging>=20.0->spacy) (3.0.9)\n",
            "Requirement already satisfied: typing-extensions>=4.1.0 in /usr/local/lib/python3.8/dist-packages (from pydantic!=1.8,!=1.8.1,<1.11.0,>=1.7.4->spacy) (4.4.0)\n",
            "Requirement already satisfied: chardet<4,>=3.0.2 in /usr/local/lib/python3.8/dist-packages (from requests<3.0.0,>=2.13.0->spacy) (3.0.4)\n",
            "Requirement already satisfied: certifi>=2017.4.17 in /usr/local/lib/python3.8/dist-packages (from requests<3.0.0,>=2.13.0->spacy) (2022.12.7)\n",
            "Requirement already satisfied: idna<3,>=2.5 in /usr/local/lib/python3.8/dist-packages (from requests<3.0.0,>=2.13.0->spacy) (2.10)\n",
            "Requirement already satisfied: urllib3!=1.25.0,!=1.25.1,<1.26,>=1.21.1 in /usr/local/lib/python3.8/dist-packages (from requests<3.0.0,>=2.13.0->spacy) (1.24.3)\n",
            "Requirement already satisfied: blis<0.8.0,>=0.7.8 in /usr/local/lib/python3.8/dist-packages (from thinc<8.2.0,>=8.1.0->spacy) (0.7.9)\n",
            "Requirement already satisfied: confection<1.0.0,>=0.0.1 in /usr/local/lib/python3.8/dist-packages (from thinc<8.2.0,>=8.1.0->spacy) (0.0.3)\n",
            "Requirement already satisfied: click<9.0.0,>=7.1.1 in /usr/local/lib/python3.8/dist-packages (from typer<0.8.0,>=0.3.0->spacy) (7.1.2)\n",
            "Requirement already satisfied: MarkupSafe>=0.23 in /usr/local/lib/python3.8/dist-packages (from jinja2->spacy) (2.0.1)\n"
          ]
        }
      ]
    },
    {
      "cell_type": "code",
      "source": [
        "pip install -U ginza ja-ginza"
      ],
      "metadata": {
        "colab": {
          "base_uri": "https://localhost:8080/"
        },
        "id": "LZ47Uqf2Er5u",
        "outputId": "95e4c1eb-38fa-4550-953d-b1e68433528b"
      },
      "execution_count": null,
      "outputs": [
        {
          "output_type": "stream",
          "name": "stdout",
          "text": [
            "Looking in indexes: https://pypi.org/simple, https://us-python.pkg.dev/colab-wheels/public/simple/\n",
            "Collecting ginza\n",
            "  Downloading ginza-5.1.2-py3-none-any.whl (20 kB)\n",
            "Collecting ja-ginza\n",
            "  Downloading ja_ginza-5.1.2-py3-none-any.whl (59.1 MB)\n",
            "\u001b[K     |████████████████████████████████| 59.1 MB 1.1 MB/s \n",
            "\u001b[?25hRequirement already satisfied: spacy<3.5.0,>=3.2.0 in /usr/local/lib/python3.8/dist-packages (from ginza) (3.4.4)\n",
            "Collecting plac>=1.3.3\n",
            "  Downloading plac-1.3.5-py2.py3-none-any.whl (22 kB)\n",
            "Collecting SudachiDict-core>=20210802\n",
            "  Downloading SudachiDict-core-20221021.tar.gz (9.0 kB)\n",
            "Collecting SudachiPy<0.7.0,>=0.6.2\n",
            "  Downloading SudachiPy-0.6.6-cp38-cp38-manylinux_2_5_x86_64.manylinux1_x86_64.manylinux_2_12_x86_64.manylinux2010_x86_64.whl (2.2 MB)\n",
            "\u001b[K     |████████████████████████████████| 2.2 MB 94.3 MB/s \n",
            "\u001b[?25hRequirement already satisfied: tqdm<5.0.0,>=4.38.0 in /usr/local/lib/python3.8/dist-packages (from spacy<3.5.0,>=3.2.0->ginza) (4.64.1)\n",
            "Requirement already satisfied: typer<0.8.0,>=0.3.0 in /usr/local/lib/python3.8/dist-packages (from spacy<3.5.0,>=3.2.0->ginza) (0.7.0)\n",
            "Requirement already satisfied: numpy>=1.15.0 in /usr/local/lib/python3.8/dist-packages (from spacy<3.5.0,>=3.2.0->ginza) (1.21.6)\n",
            "Requirement already satisfied: pathy>=0.3.5 in /usr/local/lib/python3.8/dist-packages (from spacy<3.5.0,>=3.2.0->ginza) (0.10.1)\n",
            "Requirement already satisfied: requests<3.0.0,>=2.13.0 in /usr/local/lib/python3.8/dist-packages (from spacy<3.5.0,>=3.2.0->ginza) (2.23.0)\n",
            "Requirement already satisfied: setuptools in /usr/local/lib/python3.8/dist-packages (from spacy<3.5.0,>=3.2.0->ginza) (57.4.0)\n",
            "Requirement already satisfied: smart-open<7.0.0,>=5.2.1 in /usr/local/lib/python3.8/dist-packages (from spacy<3.5.0,>=3.2.0->ginza) (6.3.0)\n",
            "Requirement already satisfied: preshed<3.1.0,>=3.0.2 in /usr/local/lib/python3.8/dist-packages (from spacy<3.5.0,>=3.2.0->ginza) (3.0.8)\n",
            "Requirement already satisfied: cymem<2.1.0,>=2.0.2 in /usr/local/lib/python3.8/dist-packages (from spacy<3.5.0,>=3.2.0->ginza) (2.0.7)\n",
            "Requirement already satisfied: langcodes<4.0.0,>=3.2.0 in /usr/local/lib/python3.8/dist-packages (from spacy<3.5.0,>=3.2.0->ginza) (3.3.0)\n",
            "Requirement already satisfied: packaging>=20.0 in /usr/local/lib/python3.8/dist-packages (from spacy<3.5.0,>=3.2.0->ginza) (21.3)\n",
            "Requirement already satisfied: catalogue<2.1.0,>=2.0.6 in /usr/local/lib/python3.8/dist-packages (from spacy<3.5.0,>=3.2.0->ginza) (2.0.8)\n",
            "Requirement already satisfied: jinja2 in /usr/local/lib/python3.8/dist-packages (from spacy<3.5.0,>=3.2.0->ginza) (2.11.3)\n",
            "Requirement already satisfied: wasabi<1.1.0,>=0.9.1 in /usr/local/lib/python3.8/dist-packages (from spacy<3.5.0,>=3.2.0->ginza) (0.10.1)\n",
            "Requirement already satisfied: spacy-legacy<3.1.0,>=3.0.10 in /usr/local/lib/python3.8/dist-packages (from spacy<3.5.0,>=3.2.0->ginza) (3.0.10)\n",
            "Requirement already satisfied: pydantic!=1.8,!=1.8.1,<1.11.0,>=1.7.4 in /usr/local/lib/python3.8/dist-packages (from spacy<3.5.0,>=3.2.0->ginza) (1.10.2)\n",
            "Requirement already satisfied: srsly<3.0.0,>=2.4.3 in /usr/local/lib/python3.8/dist-packages (from spacy<3.5.0,>=3.2.0->ginza) (2.4.5)\n",
            "Requirement already satisfied: murmurhash<1.1.0,>=0.28.0 in /usr/local/lib/python3.8/dist-packages (from spacy<3.5.0,>=3.2.0->ginza) (1.0.9)\n",
            "Requirement already satisfied: thinc<8.2.0,>=8.1.0 in /usr/local/lib/python3.8/dist-packages (from spacy<3.5.0,>=3.2.0->ginza) (8.1.5)\n",
            "Requirement already satisfied: spacy-loggers<2.0.0,>=1.0.0 in /usr/local/lib/python3.8/dist-packages (from spacy<3.5.0,>=3.2.0->ginza) (1.0.4)\n",
            "Requirement already satisfied: pyparsing!=3.0.5,>=2.0.2 in /usr/local/lib/python3.8/dist-packages (from packaging>=20.0->spacy<3.5.0,>=3.2.0->ginza) (3.0.9)\n",
            "Requirement already satisfied: typing-extensions>=4.1.0 in /usr/local/lib/python3.8/dist-packages (from pydantic!=1.8,!=1.8.1,<1.11.0,>=1.7.4->spacy<3.5.0,>=3.2.0->ginza) (4.4.0)\n",
            "Requirement already satisfied: urllib3!=1.25.0,!=1.25.1,<1.26,>=1.21.1 in /usr/local/lib/python3.8/dist-packages (from requests<3.0.0,>=2.13.0->spacy<3.5.0,>=3.2.0->ginza) (1.24.3)\n",
            "Requirement already satisfied: certifi>=2017.4.17 in /usr/local/lib/python3.8/dist-packages (from requests<3.0.0,>=2.13.0->spacy<3.5.0,>=3.2.0->ginza) (2022.12.7)\n",
            "Requirement already satisfied: chardet<4,>=3.0.2 in /usr/local/lib/python3.8/dist-packages (from requests<3.0.0,>=2.13.0->spacy<3.5.0,>=3.2.0->ginza) (3.0.4)\n",
            "Requirement already satisfied: idna<3,>=2.5 in /usr/local/lib/python3.8/dist-packages (from requests<3.0.0,>=2.13.0->spacy<3.5.0,>=3.2.0->ginza) (2.10)\n",
            "Requirement already satisfied: blis<0.8.0,>=0.7.8 in /usr/local/lib/python3.8/dist-packages (from thinc<8.2.0,>=8.1.0->spacy<3.5.0,>=3.2.0->ginza) (0.7.9)\n",
            "Requirement already satisfied: confection<1.0.0,>=0.0.1 in /usr/local/lib/python3.8/dist-packages (from thinc<8.2.0,>=8.1.0->spacy<3.5.0,>=3.2.0->ginza) (0.0.3)\n",
            "Requirement already satisfied: click<9.0.0,>=7.1.1 in /usr/local/lib/python3.8/dist-packages (from typer<0.8.0,>=0.3.0->spacy<3.5.0,>=3.2.0->ginza) (7.1.2)\n",
            "Requirement already satisfied: MarkupSafe>=0.23 in /usr/local/lib/python3.8/dist-packages (from jinja2->spacy<3.5.0,>=3.2.0->ginza) (2.0.1)\n",
            "Building wheels for collected packages: SudachiDict-core\n",
            "  Building wheel for SudachiDict-core (setup.py) ... \u001b[?25l\u001b[?25hdone\n",
            "  Created wheel for SudachiDict-core: filename=SudachiDict_core-20221021-py3-none-any.whl size=71574782 sha256=c32aacd99f8b9f70b624cf915f9712c8a144e81ef55ccbeef29c361dc9198e16\n",
            "  Stored in directory: /root/.cache/pip/wheels/ca/e3/ed/e78fecf6fd34349114d292242a16fc08d513fb32c2d9c5d786\n",
            "Successfully built SudachiDict-core\n",
            "Installing collected packages: SudachiPy, SudachiDict-core, plac, ginza, ja-ginza\n",
            "Successfully installed SudachiDict-core-20221021 SudachiPy-0.6.6 ginza-5.1.2 ja-ginza-5.1.2 plac-1.3.5\n"
          ]
        }
      ]
    },
    {
      "cell_type": "code",
      "source": [
        "#必ずimportが必要\n",
        "from sumy.parsers.plaintext import PlaintextParser\n",
        "from sumy.nlp.tokenizers import Tokenizer\n",
        "\n",
        "#以下はアルゴリズムに応じて import する\n",
        "from sumy.summarizers.lex_rank import LexRankSummarizer\n",
        "from sumy.summarizers.lsa import LsaSummarizer\n",
        "from sumy.summarizers.reduction import ReductionSummarizer\n",
        "from sumy.summarizers.luhn import LuhnSummarizer\n",
        "from sumy.summarizers.sum_basic import SumBasicSummarizer\n",
        "from sumy.summarizers.kl import KLSummarizer\n",
        "from sumy.summarizers.text_rank import TextRankSummarizer\n",
        "from sumy.summarizers.edmundson import EdmundsonSummarizer"
      ],
      "metadata": {
        "id": "LHoYgZQYERe9"
      },
      "execution_count": null,
      "outputs": []
    },
    {
      "cell_type": "code",
      "source": [
        "from sumy.parsers.plaintext import PlaintextParser\n",
        "from sumy.nlp.tokenizers import Tokenizer\n",
        "from sumy.summarizers.lex_rank import LexRankSummarizer\n",
        "\n",
        "#要約対象のテキスト\n",
        "text = \"「SPIDERPLUS」を提供するスパイダープラス株式会社（以下、「当社」）は、基本特許技術「チェックリスト指摘管理連携」（以下、「本発明」）を業界で初めて取得したことを発表いたします。本発明は、SPIDERPLUSにアップロードした建築図面と、施工品質管理における検査チェックリスト（以下「チェックリスト」）及び、チェックリストに基づく検査により指摘された事項の是正状況（以下「指摘管理」）を連携し、これらを一元管理する技術です。従来、紙やExcelなどで行っていたチェックリストによる検査と指摘管理がSPIDERPLUSで完結し、施工品質管理業務のデジタルトランスフォーメーションを実現します。なお、本発明はSPIDERPLUSだけにしか提供できない独自機能となります。当社は、紙図面のデジタル化（ペーパーレス化）から始まり、建設業界のIT化の進展に応じて、様々な機能を実装してきました。本発明により、建設現場における施工品質管理業務の更なる効率化を図るとともに、新機能の開発などに活用することで建設業界の生産性向上に一層貢献してまいります。\"\n",
        "\n",
        "#要約対象のテキストを指定\n",
        "parser = PlaintextParser.from_string(text, Tokenizer('japanese'))\n",
        "#アルゴリズムのインスタンス生成\n",
        "summarizer =  LexRankSummarizer()\n",
        "#要約の実行 sentences_count で何行に要約したいかを指定する\n",
        "res = summarizer(document=parser.document, sentences_count=3)"
      ],
      "metadata": {
        "id": "FHHHWNe4ERgU"
      },
      "execution_count": null,
      "outputs": []
    },
    {
      "cell_type": "code",
      "source": [
        "# res"
      ],
      "metadata": {
        "colab": {
          "base_uri": "https://localhost:8080/"
        },
        "id": "t7pZ56J1ERkL",
        "outputId": "bc5bf3ab-86f8-4ccf-c57d-44aeb24fc883"
      },
      "execution_count": null,
      "outputs": [
        {
          "output_type": "execute_result",
          "data": {
            "text/plain": [
              "(<Sentence: 本発明は、SPIDERPLUSにアップロードした建築図面と、施工品質管理における検査チェックリスト（以下「チェックリスト」）及び、チェックリストに基づく検査により指摘された事項の是正状況（以下「指摘管理」）を連携し、これらを一元管理する技術です。>,\n",
              " <Sentence: 従来、紙やExcelなどで行っていたチェックリストによる検査と指摘管理がSPIDERPLUSで完結し、施工品質管理業務のデジタルトランスフォーメーションを実現します。>,\n",
              " <Sentence: 本発明により、建設現場における施工品質管理業務の更なる効率化を図るとともに、新機能の開発などに活用することで建設業界の生産性向上に一層貢献してまいります。>)"
            ]
          },
          "metadata": {},
          "execution_count": 12
        }
      ]
    },
    {
      "cell_type": "code",
      "source": [
        "#要約結果の取り出し\n",
        "for sentence in res:\n",
        "    print(sentence.__str__())"
      ],
      "metadata": {
        "colab": {
          "base_uri": "https://localhost:8080/"
        },
        "id": "zlcV4N07ERk2",
        "outputId": "13cd31ab-284e-4056-a497-ab4af839d1b8"
      },
      "execution_count": null,
      "outputs": [
        {
          "output_type": "stream",
          "name": "stdout",
          "text": [
            "本発明は、SPIDERPLUSにアップロードした建築図面と、施工品質管理における検査チェックリスト（以下「チェックリスト」）及び、チェックリストに基づく検査により指摘された事項の是正状況（以下「指摘管理」）を連携し、これらを一元管理する技術です。\n",
            "従来、紙やExcelなどで行っていたチェックリストによる検査と指摘管理がSPIDERPLUSで完結し、施工品質管理業務のデジタルトランスフォーメーションを実現します。\n",
            "本発明により、建設現場における施工品質管理業務の更なる効率化を図るとともに、新機能の開発などに活用することで建設業界の生産性向上に一層貢献してまいります。\n"
          ]
        }
      ]
    },
    {
      "cell_type": "markdown",
      "source": [],
      "metadata": {
        "id": "ELuz3yMoHF-O"
      }
    },
    {
      "cell_type": "code",
      "source": [
        "from sumy.parsers.plaintext import PlaintextParser\n",
        "from sumy.nlp.tokenizers import Tokenizer\n",
        "from sumy.summarizers.lex_rank import LexRankSummarizer\n",
        "from sumy.summarizers.lsa import LsaSummarizer\n",
        "from sumy.summarizers.reduction import ReductionSummarizer\n",
        "from sumy.summarizers.luhn import LuhnSummarizer\n",
        "from sumy.summarizers.sum_basic import SumBasicSummarizer\n",
        "from sumy.summarizers.kl import KLSummarizer\n",
        "from sumy.summarizers.text_rank import TextRankSummarizer\n",
        "from sumy.summarizers.edmundson import EdmundsonSummarizer\n",
        "import spacy\n",
        "import codecs\n",
        "\n",
        "class DocumentSummary:\n",
        "    def __init__(self):\n",
        "        '''\n",
        "        コンストラクタ\n",
        "        '''\n",
        "        #アルゴリズムの一覧\n",
        "        self.algorithm = {\n",
        "            'lex':LexRankSummarizer(),\n",
        "            'txt':TextRankSummarizer(),\n",
        "            'red':ReductionSummarizer(),\n",
        "            'luh':LuhnSummarizer(),\n",
        "            'sum':SumBasicSummarizer(),\n",
        "            'kls':KLSummarizer(),\n",
        "            'lsa':LsaSummarizer(),\n",
        "            'edm':EdmundsonSummarizer()\n",
        "        }\n",
        "        #コーパスの利用有無\n",
        "        self.use_corpus = True\n",
        "        #要約の文書数\n",
        "        self.sentences_count = 10\n",
        "        #ストップワード\n",
        "        self.stop_words = ['']\n",
        "        #EdmundsonSummarizer用のポジティブキーワード\n",
        "        self.bonus_words = ['']\n",
        "        #EdmundsonSummarizer用のネガティブキーワード\n",
        "        self.stigma_words = ['']\n",
        "        #EdmundsonSummarizer用の無視キーワード\n",
        "        self.null_words = ['']\n",
        "        #要約対象のテキスト\n",
        "        self.text = None\n",
        "        #作成したコーパス    \n",
        "        self.coupus = None\n",
        "        #コーパスの元文書\n",
        "        self.originals = None\n",
        "        #要約に適した加工が施されたテキスト情報\n",
        "        self.parser = None\n",
        "\n",
        "    def create_corpus(self,text):\n",
        "        '''\n",
        "        コーパスを作成する\n",
        "  \n",
        "        Parameters:\n",
        "        --------\n",
        "            text : str   コーパスを生成したいテキスト \n",
        "        '''\n",
        "        nlp = spacy.load('ja_ginza')\n",
        "        corpus = []\n",
        "        originals = []\n",
        "        doc = nlp(text)\n",
        "        for s in doc.sents:\n",
        "            originals.append(s)\n",
        "            tokens = []\n",
        "            for t in s:\n",
        "                tokens.append(t.lemma_)\n",
        "            corpus.append(' '.join(tokens))\n",
        "        return corpus,originals\n",
        "\n",
        "    def read_file(self,filename,encoding='utf-8'):\n",
        "        '''\n",
        "        要約したいファイルを読み込む\n",
        "\n",
        "        Parameters:\n",
        "        --------\n",
        "            filename : str   要約したい文書が書かれたファイル名 \n",
        "        '''\n",
        "        with codecs.open(filename,'r',encoding,'ignore') as f:\n",
        "            self.read_text(f.read())\n",
        "\n",
        "    def read_text(self,text):\n",
        "        '''\n",
        "        要約したいテキストを読み込む\n",
        "\n",
        "        Parameters:\n",
        "        --------\n",
        "            text : str   要約したいテキスト  \n",
        "        '''\n",
        "        self.text = text\n",
        "        if self.use_corpus:\n",
        "            #コーパスの作成\n",
        "            self.coupus,self.originals  = self.create_corpus(self.text.replace('\\r','').replace('\\n','').replace('『','「').replace('』','」'))\n",
        "            #連結したcorpusをトークナイズ\n",
        "            self.parser = PlaintextParser.from_string(''.join(self.coupus), Tokenizer('japanese'))\n",
        "        else:\n",
        "            #テキストをそのままトークナイズ\n",
        "            self.parser = PlaintextParser.from_string(self.text, Tokenizer('japanese'))\n",
        "\n",
        "    def summarize(self,algo):\n",
        "        '''\n",
        "        文書を要約する\n",
        "\n",
        "        Parameters:\n",
        "        --------\n",
        "            algo : str       アルゴリズム ('lex''red''luh','sum','kls'、など)  \n",
        "            stopwords:[str]  文書の終わりを識別する為の文字列をリストで指定\n",
        "        '''\n",
        "\n",
        "        #アルゴリズムの取得\n",
        "        summarizer = self.algorithm[algo]\n",
        "        if algo == 'edm':\n",
        "            summarizer.bonus_words = ['']\n",
        "            summarizer.stigma_words = ['']\n",
        "            summarizer.null_words = ['']\n",
        "\n",
        "        # スペースをストップワードを設定\n",
        "        summarizer.stop_words = self.stop_words\n",
        "        # 文書の要約\n",
        "        summary = summarizer(document=self.parser.document, sentences_count=self.sentences_count)\n",
        "\n",
        "        #要約した結果をリストに格納\n",
        "        res = []\n",
        "        for sentence in summary:\n",
        "            if self.use_corpus:\n",
        "                #特定の文字列が\n",
        "                if sentence.__str__() in self.coupus:\n",
        "                    res.append(self.originals[self.coupus.index(sentence.__str__())])\n",
        "            else:\n",
        "                res.append(sentence.__str__())\n",
        "\n",
        "        return '\\n'.join([str(x) for x in res])\n"
      ],
      "metadata": {
        "colab": {
          "base_uri": "https://localhost:8080/"
        },
        "id": "bM8SOWjTHUNV",
        "outputId": "8a938f90-fb13-441f-f32c-97513f632a73"
      },
      "execution_count": null,
      "outputs": [
        {
          "output_type": "stream",
          "name": "stderr",
          "text": [
            "/usr/local/lib/python3.8/dist-packages/torch/cuda/__init__.py:497: UserWarning: Can't initialize NVML\n",
            "  warnings.warn(\"Can't initialize NVML\")\n"
          ]
        }
      ]
    },
    {
      "cell_type": "code",
      "source": [
        "sum = DocumentSummary()\n",
        "sum.use_corpus= False\n",
        "sum.sentences_count = 4\n",
        "sum.read_file('sample.txt')\n",
        "print(sum.text)\n",
        "print(\"★★★ LexRankによる要約 =================================\")\n",
        "print(sum.summarize('lex'))\n",
        "print(\"★★★ TextRankによる要約 =================================\")\n",
        "print(sum.summarize('txt'))\n",
        "print(\"★★★ Reductionによる要約 =================================\")\n",
        "print(sum.summarize('red'))\n",
        "print(\"★★★ Luhnよる要約 =================================\")\n",
        "print(sum.summarize('luh'))\n",
        "print(\"★★★ SumBasicによる要約 =================================\")\n",
        "print(sum.summarize('sum'))\n",
        "print(\"★★★ KLSによる要約 =================================\")\n",
        "print(sum.summarize('kls'))\n",
        "print(\"★★★ LSA（Latent Semantic Analysis）による要約 =================================\")\n",
        "print(sum.summarize('lsa'))\n",
        "print(\"★★★ Edmundsonによる要約 =================================\")\n",
        "print(sum.summarize('edm'))"
      ],
      "metadata": {
        "colab": {
          "base_uri": "https://localhost:8080/"
        },
        "id": "geUi4aqnHGGW",
        "outputId": "efed32f4-df8c-4768-aa44-640d26745c91"
      },
      "execution_count": null,
      "outputs": [
        {
          "output_type": "stream",
          "name": "stdout",
          "text": [
            "「SPIDERPLUS」を提供するスパイダープラス株式会社（以下、「当社」）は、基本特許技術「チェックリスト指摘管理連携」（以下、「本発明」）を業界で初めて取得したことを発表いたします。\r\n",
            "\r\n",
            "\r\n",
            "本発明は、SPIDERPLUSにアップロードした建築図面と、施工品質管理における検査チェックリスト（以下「チェックリスト」）及び、チェックリストに基づく検査により指摘された事項の是正状況（以下「指摘管理」）を連携し、これらを一元管理する技術です。\r\n",
            "\r\n",
            "従来、紙やExcelなどで行っていたチェックリストによる検査と指摘管理がSPIDERPLUSで完結し、施工品質管理業務のデジタルトランスフォーメーションを実現します。\r\n",
            "なお、本発明はSPIDERPLUSだけにしか提供できない独自機能となります。\r\n",
            "\r\n",
            "当社は、紙図面のデジタル化（ペーパーレス化）から始まり、建設業界のIT化の進展に応じて、様々な機能を実装してきました。本発明により、建設現場における施工品質管理業務の更なる効率化を図るとともに、新機能の開発などに活用することで建設業界の生産性向上に一層貢献してまいります。\r\n",
            "\r\n",
            "■特許概要\r\n",
            " \r\n",
            "\r\n",
            "特許番号\t特許第7167386号\r\n",
            "登録日\t2022年10月28日\r\n",
            "特許権者\tスパイダープラス株式会社\r\n",
            "発明の名称\t指摘内容出力システム、指摘内容出力方法及びプログラム\r\n",
            " \r\n",
            "\r\n",
            "■本特許の背景／課題\r\n",
            "建設現場では、施工品質管理のためにチェックリストに基づいた、工事が完了した各項目の合否判定を行います。合否判定の結果、「否」となった指摘事項（是正事項）を行う指摘管理を行います。\r\n",
            "チェックリスト及び指摘管理については、従来「紙ベース」での運用が一般的であったため、図面情報との紐づけや是正状況の確認に工数を要する等の課題が生じておりました。\r\n",
            "\r\n",
            "そこで、SPIDERPLUS上においてチェックリストによる検査と指摘管理ができる機能を開発するとともに、チェックリストと指摘管理の機能連携、さらには図面情報との連携機能も開発しました。本発明により、施工品質管理業務の更なる効率化を図ることができるようになります。\r\n",
            "\r\n",
            "本発明は、施工管理において非常に重要な品質管理業務を効率化する技術です。施工品質管理は、法律により定められる検査から建設会社各社が行う自主検査まで、様々な手段とそれに応じた効率化ニーズが存在します。\r\n",
            "\r\n",
            "当社は今後も、新機能の開発や改良に本技術を活用することで、当社にしか提供できない機能を拡充し、建設業界の生産性向上に貢献してまいります。\r\n",
            "\r\n",
            "CIPO（執行役員知財責任者）谷口将仁のコメント \r\n",
            "建設DX業界において、非常に重要な特許を取得することができました。本特許の権利範囲は非常に広く、まさに基本特許と言えます。\r\n",
            "\r\n",
            "業界初の基本特許技術「チェックリスト指摘管理連携」の活用により、独占的に「チェックリスト機能と指摘管理機能を連携させた統合管理」が可能になるため、「SPIDERPLUS」の利便性が向上します。また、有望企業とのアライアンスにも活用してまいります。\r\n",
            "本発明を活用したオプション機能の「指摘管理機能」により、「SPIDERPLUS」は多くのお客様に選ばれるサービスとなっており、特許取得できたことは当社にとって非常に重要です。\r\n",
            "\r\n",
            "スパイダープラスでは他にも多数の特許出願をしております。顧客価値を基点に知財戦略を推進することで、スパイダープラスだけにしか提供できない独自機能を拡大し、持続的な企業価値の向上を最大化してまいります。\r\n",
            "\r\n",
            "知財リリースについて\r\n",
            "持続的な企業価値向上における知的財産及び無形資産の重要性が高まっていることを踏まえ、スパイダープラスは、知財管理体制の構築と中長期の成長戦略及びプロダクト・ロードマップに沿った知財戦略の策定をしております。\r\n",
            "\r\n",
            "当該知財戦略のもと模倣困難性の高い機能群を構築し、また、取得した知的財産権については積極的な情報開示を行うことで、当社プロダクト及びサービスの提供価値を建設業界に発信してまいります。\n",
            "★★★ LexRankによる要約 =================================\n",
            "従来、紙やExcelなどで行っていたチェックリストによる検査と指摘管理がSPIDERPLUSで完結し、施工品質管理業務のデジタルトランスフォーメーションを実現します。\n",
            "■本特許の背景／課題 建設現場では、施工品質管理のためにチェックリストに基づいた、工事が完了した各項目の合否判定を行います。\n",
            "顧客価値を基点に知財戦略を推進することで、スパイダープラスだけにしか提供できない独自機能を拡大し、持続的な企業価値の向上を最大化してまいります。\n",
            "当該知財戦略のもと模倣困難性の高い機能群を構築し、また、取得した知的財産権については積極的な情報開示を行うことで、当社プロダクト及びサービスの提供価値を建設業界に発信してまいります。\n",
            "★★★ TextRankによる要約 =================================\n",
            "チェックリスト及び指摘管理については、従来「紙ベース」での運用が一般的であったため、図面情報との紐づけや是正状況の確認に工数を要する等の課題が生じておりました。\n",
            "顧客価値を基点に知財戦略を推進することで、スパイダープラスだけにしか提供できない独自機能を拡大し、持続的な企業価値の向上を最大化してまいります。\n",
            "知財リリースについて 持続的な企業価値向上における知的財産及び無形資産の重要性が高まっていることを踏まえ、スパイダープラスは、知財管理体制の構築と中長期の成長戦略及びプロダクト・ロードマップに沿った知財戦略の策定をしております。\n",
            "当該知財戦略のもと模倣困難性の高い機能群を構築し、また、取得した知的財産権については積極的な情報開示を行うことで、当社プロダクト及びサービスの提供価値を建設業界に発信してまいります。\n",
            "★★★ Reductionによる要約 =================================\n",
            "当社は今後も、新機能の開発や改良に本技術を活用することで、当社にしか提供できない機能を拡充し、建設業界の生産性向上に貢献してまいります。\n",
            "顧客価値を基点に知財戦略を推進することで、スパイダープラスだけにしか提供できない独自機能を拡大し、持続的な企業価値の向上を最大化してまいります。\n",
            "知財リリースについて 持続的な企業価値向上における知的財産及び無形資産の重要性が高まっていることを踏まえ、スパイダープラスは、知財管理体制の構築と中長期の成長戦略及びプロダクト・ロードマップに沿った知財戦略の策定をしております。\n",
            "当該知財戦略のもと模倣困難性の高い機能群を構築し、また、取得した知的財産権については積極的な情報開示を行うことで、当社プロダクト及びサービスの提供価値を建設業界に発信してまいります。\n",
            "★★★ Luhnよる要約 =================================\n",
            "当社は今後も、新機能の開発や改良に本技術を活用することで、当社にしか提供できない機能を拡充し、建設業界の生産性向上に貢献してまいります。\n",
            "顧客価値を基点に知財戦略を推進することで、スパイダープラスだけにしか提供できない独自機能を拡大し、持続的な企業価値の向上を最大化してまいります。\n",
            "知財リリースについて 持続的な企業価値向上における知的財産及び無形資産の重要性が高まっていることを踏まえ、スパイダープラスは、知財管理体制の構築と中長期の成長戦略及びプロダクト・ロードマップに沿った知財戦略の策定をしております。\n",
            "当該知財戦略のもと模倣困難性の高い機能群を構築し、また、取得した知的財産権については積極的な情報開示を行うことで、当社プロダクト及びサービスの提供価値を建設業界に発信してまいります。\n",
            "★★★ SumBasicによる要約 =================================\n",
            "合否判定の結果、「否」となった指摘事項（是正事項）を行う指摘管理を行います。\n",
            "施工品質管理は、法律により定められる検査から建設会社各社が行う自主検査まで、様々な手段とそれに応じた効率化ニーズが存在します。\n",
            "スパイダープラスでは他にも多数の特許出願をしております。\n",
            "顧客価値を基点に知財戦略を推進することで、スパイダープラスだけにしか提供できない独自機能を拡大し、持続的な企業価値の向上を最大化してまいります。\n",
            "★★★ KLSによる要約 =================================\n",
            "合否判定の結果、「否」となった指摘事項（是正事項）を行う指摘管理を行います。\n",
            "チェックリスト及び指摘管理については、従来「紙ベース」での運用が一般的であったため、図面情報との紐づけや是正状況の確認に工数を要する等の課題が生じておりました。\n",
            "本発明は、施工管理において非常に重要な品質管理業務を効率化する技術です。\n",
            "スパイダープラスでは他にも多数の特許出願をしております。\n",
            "★★★ LSA（Latent Semantic Analysis）による要約 =================================\n",
            "従来、紙やExcelなどで行っていたチェックリストによる検査と指摘管理がSPIDERPLUSで完結し、施工品質管理業務のデジタルトランスフォーメーションを実現します。\n",
            "施工品質管理は、法律により定められる検査から建設会社各社が行う自主検査まで、様々な手段とそれに応じた効率化ニーズが存在します。\n",
            "スパイダープラスでは他にも多数の特許出願をしております。\n",
            "当該知財戦略のもと模倣困難性の高い機能群を構築し、また、取得した知的財産権については積極的な情報開示を行うことで、当社プロダクト及びサービスの提供価値を建設業界に発信してまいります。\n",
            "★★★ Edmundsonによる要約 =================================\n",
            "当社は今後も、新機能の開発や改良に本技術を活用することで、当社にしか提供できない機能を拡充し、建設業界の生産性向上に貢献してまいります。\n",
            "顧客価値を基点に知財戦略を推進することで、スパイダープラスだけにしか提供できない独自機能を拡大し、持続的な企業価値の向上を最大化してまいります。\n",
            "知財リリースについて 持続的な企業価値向上における知的財産及び無形資産の重要性が高まっていることを踏まえ、スパイダープラスは、知財管理体制の構築と中長期の成長戦略及びプロダクト・ロードマップに沿った知財戦略の策定をしております。\n",
            "当該知財戦略のもと模倣困難性の高い機能群を構築し、また、取得した知的財産権については積極的な情報開示を行うことで、当社プロダクト及びサービスの提供価値を建設業界に発信してまいります。\n"
          ]
        }
      ]
    },
    {
      "cell_type": "code",
      "source": [],
      "metadata": {
        "id": "wgtUs3zzHGKL"
      },
      "execution_count": null,
      "outputs": []
    }
  ]
}